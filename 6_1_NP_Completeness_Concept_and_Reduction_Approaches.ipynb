{
  "nbformat": 4,
  "nbformat_minor": 0,
  "metadata": {
    "colab": {
      "private_outputs": true,
      "provenance": [],
      "toc_visible": true,
      "authorship_tag": "ABX9TyPI5KttVRgGGCXDNrkmRWf+",
      "include_colab_link": true
    },
    "kernelspec": {
      "name": "python3",
      "display_name": "Python 3"
    },
    "language_info": {
      "name": "python"
    }
  },
  "cells": [
    {
      "cell_type": "markdown",
      "metadata": {
        "id": "view-in-github",
        "colab_type": "text"
      },
      "source": [
        "<a href=\"https://colab.research.google.com/github/javierfernandobotia/LogicandRepresentationII/blob/main/6_1_NP_Completeness_Concept_and_Reduction_Approaches.ipynb\" target=\"_parent\"><img src=\"https://colab.research.google.com/assets/colab-badge.svg\" alt=\"Open In Colab\"/></a>"
      ]
    },
    {
      "cell_type": "markdown",
      "source": [
        "# NP-Completeness: Concept and Reduction Approaches for Algorithms"
      ],
      "metadata": {
        "id": "nksMRvQ3TVmZ"
      }
    },
    {
      "cell_type": "markdown",
      "source": [
        "<p align=\"center\">\n",
        " <img width=\"890\" height=\"460\" src=\"https://raw.githubusercontent.com/javierfernandobotia/LogicandRepresentationII/main/escudo_udea_solo.png\">\n",
        "</p>\n",
        "\n",
        "\n",
        "Javier Fernando Botía Valderrama, Ph.D. (Subject Matter Expert) - [javier.botia@udea.edu.co](javier.botia@udea.edu.co)\n",
        "\n",
        "Diana Margot López, M.S. (Subject Matter Expert) - [margot.lopez@udea.edu.co](margot.lopez@udea.edu.co)\n",
        "\n",
        "Subject: **Logic and Representation II**\n",
        "\n",
        "Systems Engineering Department - Faculty of Engineering\n",
        "\n",
        "University of Antiquia (UdeA)\n",
        "\n",
        "Medellín, Colombia"
      ],
      "metadata": {
        "id": "qC0upoSWUpqC"
      }
    },
    {
      "cell_type": "markdown",
      "source": [
        "## Introduction"
      ],
      "metadata": {
        "id": "pqciuxnKV6Wy"
      }
    },
    {
      "cell_type": "markdown",
      "source": [],
      "metadata": {
        "id": "V0LantciWA3r"
      }
    },
    {
      "cell_type": "markdown",
      "source": [
        "I will now introduce techniques for proving that no efficient algorithm can exist\n",
        "for a given problem. The practical reader is probably squirming at the notion\n",
        "of proving anything, and will be particularly alarmed at the idea of investing\n",
        "time to prove that something does not exist. Why are you better off knowing\n",
        "that something you don’t know how to do in fact can’t be done at all?\n",
        "The truth is that the theory of NP-completeness is an immensely useful tool\n",
        "for the algorithm designer, even though all it provides are negative results. The\n",
        "theory of NP-completeness enables us to focus our efforts more productively,\n",
        "by revealing when the search for an efficient algorithm is doomed to failure.\n",
        "Whenever one tries and fails to show a problem is hard, that suggests there\n",
        "may well be an efficient algorithm to solve it. Two war stories in Chapter 10\n",
        "described happy results springing from bogus claims of hardness.\n",
        "The theory of NP-completeness also enables us to identify which properties\n",
        "make a particular problem hard. This can provide direction to model it in\n",
        "different ways, or exploit more benevolent characteristics of the problem. Developing\n",
        "a sense for which problems are hard is an important skill for algorithm\n",
        "designers, and only comes from hands-on experience with proving hardness.\n",
        "The fundamental concept we will use here is reduction, showing that two\n",
        "problems are really equivalent. We illustrate this idea through a series of reductions,\n",
        "each of which either yields an efficient algorithm for one problem or\n",
        "an argument that no such algorithm can exist for the other. We also provide a\n",
        "brief introduction to the complexity-theoretic aspects of NP-completeness, one\n",
        "of the most fundamental notions in computer science."
      ],
      "metadata": {
        "id": "Lwe4OiHvVyps"
      }
    },
    {
      "cell_type": "code",
      "execution_count": null,
      "metadata": {
        "id": "QqPPu0_ZTRHa"
      },
      "outputs": [],
      "source": []
    }
  ]
}